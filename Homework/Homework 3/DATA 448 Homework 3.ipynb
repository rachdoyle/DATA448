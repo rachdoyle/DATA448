{
 "cells": [
  {
   "cell_type": "code",
   "execution_count": 49,
   "id": "7357eaa5-82a3-4f16-a145-470bbd9a7f9d",
   "metadata": {},
   "outputs": [
    {
     "data": {
      "text/html": [
       "<div>\n",
       "<style scoped>\n",
       "    .dataframe tbody tr th:only-of-type {\n",
       "        vertical-align: middle;\n",
       "    }\n",
       "\n",
       "    .dataframe tbody tr th {\n",
       "        vertical-align: top;\n",
       "    }\n",
       "\n",
       "    .dataframe thead th {\n",
       "        text-align: right;\n",
       "    }\n",
       "</style>\n",
       "<table border=\"1\" class=\"dataframe\">\n",
       "  <thead>\n",
       "    <tr style=\"text-align: right;\">\n",
       "      <th></th>\n",
       "      <th>id</th>\n",
       "      <th>product_code</th>\n",
       "      <th>loading</th>\n",
       "      <th>attribute_0</th>\n",
       "      <th>attribute_1</th>\n",
       "      <th>attribute_2</th>\n",
       "      <th>attribute_3</th>\n",
       "      <th>measurement_0</th>\n",
       "      <th>measurement_1</th>\n",
       "      <th>measurement_2</th>\n",
       "      <th>...</th>\n",
       "      <th>measurement_9</th>\n",
       "      <th>measurement_10</th>\n",
       "      <th>measurement_11</th>\n",
       "      <th>measurement_12</th>\n",
       "      <th>measurement_13</th>\n",
       "      <th>measurement_14</th>\n",
       "      <th>measurement_15</th>\n",
       "      <th>measurement_16</th>\n",
       "      <th>measurement_17</th>\n",
       "      <th>failure</th>\n",
       "    </tr>\n",
       "  </thead>\n",
       "  <tbody>\n",
       "    <tr>\n",
       "      <th>0</th>\n",
       "      <td>0</td>\n",
       "      <td>A</td>\n",
       "      <td>80.10</td>\n",
       "      <td>material_7</td>\n",
       "      <td>material_8</td>\n",
       "      <td>9</td>\n",
       "      <td>5</td>\n",
       "      <td>7</td>\n",
       "      <td>8</td>\n",
       "      <td>4</td>\n",
       "      <td>...</td>\n",
       "      <td>10.672</td>\n",
       "      <td>15.859</td>\n",
       "      <td>17.594</td>\n",
       "      <td>15.193</td>\n",
       "      <td>15.029</td>\n",
       "      <td>NaN</td>\n",
       "      <td>13.034</td>\n",
       "      <td>14.684</td>\n",
       "      <td>764.100</td>\n",
       "      <td>0</td>\n",
       "    </tr>\n",
       "    <tr>\n",
       "      <th>1</th>\n",
       "      <td>1</td>\n",
       "      <td>A</td>\n",
       "      <td>84.89</td>\n",
       "      <td>material_7</td>\n",
       "      <td>material_8</td>\n",
       "      <td>9</td>\n",
       "      <td>5</td>\n",
       "      <td>14</td>\n",
       "      <td>3</td>\n",
       "      <td>3</td>\n",
       "      <td>...</td>\n",
       "      <td>12.448</td>\n",
       "      <td>17.947</td>\n",
       "      <td>17.915</td>\n",
       "      <td>11.755</td>\n",
       "      <td>14.732</td>\n",
       "      <td>15.425</td>\n",
       "      <td>14.395</td>\n",
       "      <td>15.631</td>\n",
       "      <td>682.057</td>\n",
       "      <td>0</td>\n",
       "    </tr>\n",
       "    <tr>\n",
       "      <th>2</th>\n",
       "      <td>2</td>\n",
       "      <td>A</td>\n",
       "      <td>82.43</td>\n",
       "      <td>material_7</td>\n",
       "      <td>material_8</td>\n",
       "      <td>9</td>\n",
       "      <td>5</td>\n",
       "      <td>12</td>\n",
       "      <td>1</td>\n",
       "      <td>5</td>\n",
       "      <td>...</td>\n",
       "      <td>12.715</td>\n",
       "      <td>15.607</td>\n",
       "      <td>NaN</td>\n",
       "      <td>13.798</td>\n",
       "      <td>16.711</td>\n",
       "      <td>18.631</td>\n",
       "      <td>14.094</td>\n",
       "      <td>17.946</td>\n",
       "      <td>663.376</td>\n",
       "      <td>0</td>\n",
       "    </tr>\n",
       "    <tr>\n",
       "      <th>3</th>\n",
       "      <td>3</td>\n",
       "      <td>A</td>\n",
       "      <td>101.07</td>\n",
       "      <td>material_7</td>\n",
       "      <td>material_8</td>\n",
       "      <td>9</td>\n",
       "      <td>5</td>\n",
       "      <td>13</td>\n",
       "      <td>2</td>\n",
       "      <td>6</td>\n",
       "      <td>...</td>\n",
       "      <td>12.471</td>\n",
       "      <td>16.346</td>\n",
       "      <td>18.377</td>\n",
       "      <td>10.020</td>\n",
       "      <td>15.250</td>\n",
       "      <td>15.562</td>\n",
       "      <td>16.154</td>\n",
       "      <td>17.172</td>\n",
       "      <td>826.282</td>\n",
       "      <td>0</td>\n",
       "    </tr>\n",
       "    <tr>\n",
       "      <th>4</th>\n",
       "      <td>4</td>\n",
       "      <td>A</td>\n",
       "      <td>188.06</td>\n",
       "      <td>material_7</td>\n",
       "      <td>material_8</td>\n",
       "      <td>9</td>\n",
       "      <td>5</td>\n",
       "      <td>9</td>\n",
       "      <td>2</td>\n",
       "      <td>8</td>\n",
       "      <td>...</td>\n",
       "      <td>10.337</td>\n",
       "      <td>17.082</td>\n",
       "      <td>19.932</td>\n",
       "      <td>12.428</td>\n",
       "      <td>16.182</td>\n",
       "      <td>12.760</td>\n",
       "      <td>13.153</td>\n",
       "      <td>16.412</td>\n",
       "      <td>579.885</td>\n",
       "      <td>0</td>\n",
       "    </tr>\n",
       "  </tbody>\n",
       "</table>\n",
       "<p>5 rows × 26 columns</p>\n",
       "</div>"
      ],
      "text/plain": [
       "   id product_code  loading attribute_0 attribute_1  attribute_2  attribute_3  \\\n",
       "0   0            A    80.10  material_7  material_8            9            5   \n",
       "1   1            A    84.89  material_7  material_8            9            5   \n",
       "2   2            A    82.43  material_7  material_8            9            5   \n",
       "3   3            A   101.07  material_7  material_8            9            5   \n",
       "4   4            A   188.06  material_7  material_8            9            5   \n",
       "\n",
       "   measurement_0  measurement_1  measurement_2  ...  measurement_9  \\\n",
       "0              7              8              4  ...         10.672   \n",
       "1             14              3              3  ...         12.448   \n",
       "2             12              1              5  ...         12.715   \n",
       "3             13              2              6  ...         12.471   \n",
       "4              9              2              8  ...         10.337   \n",
       "\n",
       "   measurement_10  measurement_11  measurement_12  measurement_13  \\\n",
       "0          15.859          17.594          15.193          15.029   \n",
       "1          17.947          17.915          11.755          14.732   \n",
       "2          15.607             NaN          13.798          16.711   \n",
       "3          16.346          18.377          10.020          15.250   \n",
       "4          17.082          19.932          12.428          16.182   \n",
       "\n",
       "   measurement_14  measurement_15  measurement_16  measurement_17  failure  \n",
       "0             NaN          13.034          14.684         764.100        0  \n",
       "1          15.425          14.395          15.631         682.057        0  \n",
       "2          18.631          14.094          17.946         663.376        0  \n",
       "3          15.562          16.154          17.172         826.282        0  \n",
       "4          12.760          13.153          16.412         579.885        0  \n",
       "\n",
       "[5 rows x 26 columns]"
      ]
     },
     "execution_count": 49,
     "metadata": {},
     "output_type": "execute_result"
    }
   ],
   "source": [
    "import boto3\n",
    "import pandas as pd\n",
    "import numpy as np\n",
    "import matplotlib.pyplot as plt\n",
    "\n",
    "from sklearn.model_selection import train_test_split\n",
    "from sklearn.metrics import roc_curve, classification_report, roc_auc_score\n",
    "from sklearn.tree import DecisionTreeClassifier\n",
    "from sklearn.ensemble import RandomForestClassifier, AdaBoostClassifier\n",
    "from sklearn.impute import SimpleImputer, KNNImputer\n",
    "\n",
    "\n",
    "##defining the bucket\n",
    "s3 = boto3.resource('s3')\n",
    "bucket_name = 'rachaeld-data445'\n",
    "bucket = s3.Bucket(bucket_name)\n",
    "\n",
    "#defining the csv file\n",
    "file_key = 'train_data.csv'\n",
    "\n",
    "bucket_object = bucket.Object(file_key)\n",
    "file_object = bucket_object.get()\n",
    "file_content_stream = file_object.get('Body')\n",
    "\n",
    "train_data = pd.read_csv(file_content_stream)\n",
    "train_data.head()\n"
   ]
  },
  {
   "cell_type": "code",
   "execution_count": 50,
   "id": "3a9acbba-a0ee-4363-b76b-58e4ef09d399",
   "metadata": {},
   "outputs": [
    {
     "data": {
      "text/plain": [
       "C    5765\n",
       "E    5343\n",
       "B    5250\n",
       "D    5112\n",
       "A    5100\n",
       "Name: product_code, dtype: int64"
      ]
     },
     "execution_count": 50,
     "metadata": {},
     "output_type": "execute_result"
    }
   ],
   "source": [
    "##(5 points) Report the number of observations For each product code.\n",
    "train_data['product_code'].value_counts()"
   ]
  },
  {
   "cell_type": "code",
   "execution_count": 51,
   "id": "97337b7b-3904-4f0a-b880-753595855276",
   "metadata": {},
   "outputs": [
    {
     "name": "stderr",
     "output_type": "stream",
     "text": [
      "/tmp/ipykernel_4943/342769593.py:3: FutureWarning: The default value of numeric_only in DataFrameGroupBy.mean is deprecated. In a future version, numeric_only will default to False. Either specify numeric_only or select only columns which should be valid for the function.\n",
      "  product_groups= train_data.groupby('product_code').mean()\n"
     ]
    },
    {
     "data": {
      "image/png": "[encoded data removed]",
      "text/plain": [
       "<Figure size 640x480 with 1 Axes>"
      ]
     },
     "metadata": {},
     "output_type": "display_data"
    }
   ],
   "source": [
    "##(15 points) Create two visualizations that may show interesting relationships between the input\n",
    "##variables and the target variable. Make sure to describe the visualizations.\n",
    "product_groups= train_data.groupby('product_code').mean()\n",
    "plt.bar(product_groups.index, product_groups['failure'])\n",
    "plt.xlabel('Product Groups')\n",
    "plt.ylabel('Average Failures')\n",
    "plt.show()"
   ]
  },
  {
   "cell_type": "markdown",
   "id": "f6921c26-3ebe-4fe2-adeb-61450956e206",
   "metadata": {},
   "source": [
    "The above plot shows for each producrt group the average amount of failures. So the group with the most failures is A, and in descending order goes, A-D-C-E-B, meaning B has the lowest amount of average failures. "
   ]
  },
  {
   "cell_type": "code",
   "execution_count": 52,
   "id": "6aaab5d5-cf8d-4e9d-9b52-fc3c6ee8c6d7",
   "metadata": {},
   "outputs": [
    {
     "data": {
      "text/plain": [
       "<AxesSubplot: xlabel='measurement_3', ylabel='Count'>"
      ]
     },
     "execution_count": 52,
     "metadata": {},
     "output_type": "execute_result"
    },
    {
     "data": {
      "image/png": "[encoded data removed]",
      "text/plain": [
       "<Figure size 2000x1200 with 3 Axes>"
      ]
     },
     "metadata": {},
     "output_type": "display_data"
    }
   ],
   "source": [
    "### MAKING ANOTHER VISUAL\n",
    "import seaborn as sns\n",
    "\n",
    "fig, axes = plt.subplots(1, 3, figsize = (20, 12))\n",
    "\n",
    "\n",
    "sns.histplot(ax = axes[0], x = 'measurement_1', hue = 'failure', fill = True, data = train_data)\n",
    "sns.histplot(ax = axes[1], x = 'measurement_2', hue = 'failure', fill = True, data = train_data)\n",
    "sns.histplot(ax = axes[2], x = 'measurement_3', hue = 'failure', fill = True, data = train_data)\n"
   ]
  },
  {
   "cell_type": "markdown",
   "id": "0e552419-127a-4e09-8d2c-85b962cb1709",
   "metadata": {},
   "source": [
    "From the above plot we see the count of fails and successes at each value for the measurements. We can see that for all three the data is pretty much normal, but measurements a 1 and 2 are slightly right skewed. We can also see that There is more fails compared to successes for all three measurements. "
   ]
  },
  {
   "cell_type": "code",
   "execution_count": 64,
   "id": "642614f3-698e-41f2-9b01-f358e6c5943f",
   "metadata": {},
   "outputs": [],
   "source": [
    "## defining inputs and target\n",
    "X = train_data.drop(columns = ['failure'], axis = 1)\n",
    "Y = train_data['failure']\n",
    "\n",
    "#splitting the data into train and test\n",
    "X_train, X_test, Y_train, Y_test = train_test_split(X, Y, test_size = .2, stratify = Y)"
   ]
  },
  {
   "cell_type": "code",
   "execution_count": 65,
   "id": "fec0aae9-d371-4d54-b27f-380bf7729d4a",
   "metadata": {},
   "outputs": [],
   "source": [
    "X_train_i= X_train.drop(columns=['product_code', 'attribute_0', 'attribute_1'], axis=1)\n",
    "X_test_i= X_test.drop(columns=['product_code', 'attribute_0', 'attribute_1'], axis=1)"
   ]
  },
  {
   "cell_type": "code",
   "execution_count": 66,
   "id": "6bd1f552-f500-4028-93f5-e8bf2aee7935",
   "metadata": {},
   "outputs": [],
   "source": [
    "##defining the imputer\n",
    "imputer = KNNImputer(n_neighbors = 5, weights = 'distance').fit(X_train_i)\n",
    "\n",
    "##imputing the missing values\n",
    "X_train_imp = pd.DataFrame(imputer.transform(X_train_i), columns = X_train_i.columns)\n",
    "X_test_imp = pd.DataFrame(imputer.transform(X_test_i), columns = X_test_i.columns)"
   ]
  },
  {
   "cell_type": "code",
   "execution_count": 68,
   "id": "ac6d3b46-ebd7-483b-b3f8-c01ed1b3b05f",
   "metadata": {},
   "outputs": [
    {
     "name": "stdout",
     "output_type": "stream",
     "text": [
      "Area under the ROC curve: 0.566710308127041\n"
     ]
    }
   ],
   "source": [
    "### ADABOOST ###\n",
    "ADA_md = AdaBoostClassifier(base_estimator = DecisionTreeClassifier( max_depth = 5), n_estimators = 500, learning_rate = .01).fit(X_train_imp, Y_train)\n",
    "\n",
    "##predicting on test\n",
    "ADA_pred = ADA_md.predict_proba(X_test_imp)[:,1]\n",
    "\n",
    "##ROC-AUC score\n",
    "ADA_auc= roc_auc_score(Y_test, ADA_pred)\n",
    "\n",
    "print(\"Area under the ROC curve:\", ADA_auc)"
   ]
  },
  {
   "cell_type": "code",
   "execution_count": 69,
   "id": "7da26eb3-05e0-40c9-a116-14d663a5e2d9",
   "metadata": {},
   "outputs": [],
   "source": [
    "##Product code A imputation \n",
    "Train_code_A = X_train[X_train['product_code'] == 'A']\n",
    "Y_train_code_A = Y_train.loc[X_train['product_code'] == 'A']\n",
    "Test_code_A = X_test[X_test['product_code'] == 'A']\n",
    "Y_test_code_A = Y_test.loc[X_test['product_code'] == 'A']\n",
    "\n",
    "##drop columns \n",
    "Train_code_A = Train_code_A.drop(columns = ['product_code', 'attribute_0', 'attribute_1'], axis = 1)\n",
    "Test_code_A = Test_code_A.drop(columns = ['product_code', 'attribute_0', 'attribute_1'], axis = 1)\n",
    "\n",
    "##imputing \n",
    "imputer = KNNImputer(n_neighbors = 5, weights = 'distance').fit(Train_code_A)\n",
    "\n",
    "##imputing the missing values\n",
    "Train_code_A = pd.DataFrame(imputer.transform(Train_code_A), columns = Train_code_A.columns).reset_index(drop = True)\n",
    "Test_code_A = pd.DataFrame(imputer.transform(Test_code_A), columns = Test_code_A.columns).reset_index(drop = True)\n"
   ]
  },
  {
   "cell_type": "code",
   "execution_count": 70,
   "id": "9d9378f0-6f8c-4ea5-bb56-63a47f034177",
   "metadata": {},
   "outputs": [],
   "source": [
    "##Product code B imputation \n",
    "Train_code_B = X_train[X_train['product_code'] == 'B']\n",
    "Y_train_code_B = Y_train.loc[X_train['product_code'] == 'B']\n",
    "Test_code_B = X_test[X_test['product_code'] == 'B']\n",
    "Y_test_code_B = Y_test.loc[X_test['product_code'] == 'B']\n",
    "\n",
    "##drop columns \n",
    "Train_code_B = Train_code_B.drop(columns = ['product_code', 'attribute_0', 'attribute_1'], axis = 1)\n",
    "Test_code_B = Test_code_B.drop(columns = ['product_code', 'attribute_0', 'attribute_1'], axis = 1)\n",
    "\n",
    "##imputing \n",
    "imputer = KNNImputer(n_neighbors = 5, weights = 'distance').fit(Train_code_B)\n",
    "\n",
    "##imputing the missing values\n",
    "Train_code_B = pd.DataFrame(imputer.transform(Train_code_B), columns = Train_code_B.columns).reset_index(drop = True)\n",
    "Test_code_B = pd.DataFrame(imputer.transform(Test_code_B), columns = Test_code_B.columns).reset_index(drop = True)\n"
   ]
  },
  {
   "cell_type": "code",
   "execution_count": 71,
   "id": "d988f318-f087-4a67-9854-eb792ab78e8e",
   "metadata": {},
   "outputs": [],
   "source": [
    "##Product code C imputation \n",
    "Train_code_C = X_train[X_train['product_code'] == 'C']\n",
    "Y_train_code_C = Y_train.loc[X_train['product_code'] == 'C']\n",
    "Test_code_C = X_test[X_test['product_code'] == 'C']\n",
    "Y_test_code_C = Y_test.loc[X_test['product_code'] == 'C']\n",
    "\n",
    "##drop columns \n",
    "Train_code_C = Train_code_C.drop(columns = ['product_code', 'attribute_0', 'attribute_1'], axis = 1)\n",
    "Test_code_C = Test_code_C.drop(columns = ['product_code', 'attribute_0', 'attribute_1'], axis = 1)\n",
    "\n",
    "##imputing \n",
    "imputer = KNNImputer(n_neighbors = 5, weights = 'distance').fit(Train_code_C)\n",
    "\n",
    "##imputing the missing values\n",
    "Train_code_C = pd.DataFrame(imputer.transform(Train_code_C), columns = Train_code_C.columns).reset_index(drop = True)\n",
    "Test_code_C = pd.DataFrame(imputer.transform(Test_code_C), columns = Test_code_C.columns).reset_index(drop = True)\n"
   ]
  },
  {
   "cell_type": "code",
   "execution_count": 72,
   "id": "e21f2837-a32e-4ffa-9c6a-51ae658a207a",
   "metadata": {},
   "outputs": [],
   "source": [
    "##Product code D imputation \n",
    "Train_code_D = X_train[X_train['product_code'] == 'D']\n",
    "Y_train_code_D = Y_train.loc[X_train['product_code'] == 'D']\n",
    "Test_code_D = X_test[X_test['product_code'] == 'D']\n",
    "Y_test_code_D = Y_test.loc[X_test['product_code'] == 'D']\n",
    "\n",
    "##drop columns \n",
    "Train_code_D = Train_code_D.drop(columns = ['product_code', 'attribute_0', 'attribute_1'], axis = 1)\n",
    "Test_code_D = Test_code_D.drop(columns = ['product_code', 'attribute_0', 'attribute_1'], axis = 1)\n",
    "\n",
    "##imputing \n",
    "imputer = KNNImputer(n_neighbors = 5, weights = 'distance').fit(Train_code_D)\n",
    "\n",
    "##imputing the missing values\n",
    "Train_code_D = pd.DataFrame(imputer.transform(Train_code_D), columns = Train_code_D.columns).reset_index(drop = True)\n",
    "Test_code_D = pd.DataFrame(imputer.transform(Test_code_D), columns = Test_code_D.columns).reset_index(drop = True)\n"
   ]
  },
  {
   "cell_type": "code",
   "execution_count": 73,
   "id": "60afe05b-a739-40e5-af9b-723794806186",
   "metadata": {},
   "outputs": [],
   "source": [
    "##Product code E imputation \n",
    "Train_code_E = X_train[X_train['product_code'] == 'E']\n",
    "Y_train_code_E = Y_train.loc[X_train['product_code'] == 'E']\n",
    "Test_code_E = X_test[X_test['product_code'] == 'E']\n",
    "Y_test_code_E = Y_test.loc[X_test['product_code'] == 'E']\n",
    "\n",
    "##drop columns \n",
    "Train_code_E = Train_code_E.drop(columns = ['product_code', 'attribute_0', 'attribute_1'], axis = 1)\n",
    "Test_code_E = Test_code_E.drop(columns = ['product_code', 'attribute_0', 'attribute_1'], axis = 1)\n",
    "\n",
    "##imputing \n",
    "imputer = KNNImputer(n_neighbors = 5, weights = 'distance').fit(Train_code_E)\n",
    "\n",
    "##imputing the missing values\n",
    "Train_code_E = pd.DataFrame(imputer.transform(Train_code_E), columns = Train_code_E.columns).reset_index(drop = True)\n",
    "Test_code_E = pd.DataFrame(imputer.transform(Test_code_E), columns = Test_code_E.columns).reset_index(drop = True)\n"
   ]
  },
  {
   "cell_type": "code",
   "execution_count": 74,
   "id": "f148ab61-15a2-4d36-82ef-2fb58fcbe3b5",
   "metadata": {},
   "outputs": [
    {
     "name": "stdout",
     "output_type": "stream",
     "text": [
      "21256\n",
      "21256\n",
      "5314\n",
      "5314\n"
     ]
    }
   ],
   "source": [
    "Train_code = pd.concat([Train_code_A, Train_code_B, Train_code_C, Train_code_D, Train_code_E], axis = 0)\n",
    "Train_Y = pd.concat([Y_train_code_A, Y_train_code_B, Y_train_code_C, Y_train_code_D, Y_train_code_E], axis = 0)\n",
    "\n",
    "Test_code = pd.concat([Test_code_A, Test_code_B, Test_code_C, Test_code_D, Test_code_E], axis = 0)\n",
    "Test_Y = pd.concat([Y_test_code_A, Y_test_code_B, Y_test_code_C, Y_test_code_D, Y_test_code_E], axis = 0)\n",
    "print(Train_code.shape[0])\n",
    "print(Train_Y.shape[0])\n",
    "print(Test_code.shape[0])\n",
    "print(Test_Y.shape[0])"
   ]
  },
  {
   "cell_type": "code",
   "execution_count": 75,
   "id": "230f4e94-44a3-45bf-bcf2-7a54dd240e31",
   "metadata": {},
   "outputs": [
    {
     "name": "stdout",
     "output_type": "stream",
     "text": [
      "Area under the ROC curve: 0.5603566684715477\n"
     ]
    }
   ],
   "source": [
    "### ADABOOST ###\n",
    "ADA_md2 = AdaBoostClassifier(base_estimator = DecisionTreeClassifier( max_depth = 5), n_estimators = 500, learning_rate = .01).fit(Train_code, Train_Y)\n",
    "\n",
    "##predicting on test\n",
    "ADA_pred2 = ADA_md2.predict_proba(Test_code)[:,1]\n",
    "\n",
    "##ROC-AUC score\n",
    "ADA_auc2= roc_auc_score(Test_Y, ADA_pred2)\n",
    "\n",
    "print(\"Area under the ROC curve:\", ADA_auc2)"
   ]
  },
  {
   "cell_type": "markdown",
   "id": "949d4c3a-37c7-4b10-aa21-77bc8e720975",
   "metadata": {},
   "source": [
    "Based on my results above I would use the first strategy to predict failure, this is because this strategy had a slightly higher ROC-AUC score (.566 vs .560) than the second strategy, and with how close they are we want to go with the less complex model. However, they are very close in values so there is not a huge difference, so we could do other things to see if there could be more improvement, or see if running many iterations of these models creates a difference in performance. "
   ]
  }
 ],
 "metadata": {
  "kernelspec": {
   "display_name": "conda_python3",
   "language": "python",
   "name": "conda_python3"
  },
  "language_info": {
   "codemirror_mode": {
    "name": "ipython",
    "version": 3
   },
   "file_extension": ".py",
   "mimetype": "text/x-python",
   "name": "python",
   "nbconvert_exporter": "python",
   "pygments_lexer": "ipython3",
   "version": "3.10.8"
  }
 },
 "nbformat": 4,
 "nbformat_minor": 5
}
