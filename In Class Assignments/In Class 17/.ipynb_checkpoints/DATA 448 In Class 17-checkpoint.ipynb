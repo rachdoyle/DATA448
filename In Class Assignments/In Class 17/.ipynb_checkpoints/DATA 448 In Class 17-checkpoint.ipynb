{
 "cells": [
  {
   "cell_type": "code",
   "execution_count": 1,
   "id": "100cf09a-b6bb-4b77-94d5-34fc3b2beebc",
   "metadata": {
    "collapsed": true,
    "jupyter": {
     "outputs_hidden": true
    },
    "tags": []
   },
   "outputs": [
    {
     "name": "stdout",
     "output_type": "stream",
     "text": [
      "Looking in indexes: https://pypi.org/simple, https://pip.repos.neuron.amazonaws.com\n",
      "Collecting optuna\n",
      "  Downloading optuna-3.1.0-py3-none-any.whl (365 kB)\n",
      "\u001b[2K     \u001b[90m━━━━━━━━━━━━━━━━━━━━━━━━━━━━━━━━━━━━━━━\u001b[0m \u001b[32m365.3/365.3 kB\u001b[0m \u001b[31m7.2 MB/s\u001b[0m eta \u001b[36m0:00:00\u001b[0m00:01\u001b[0m\n",
      "\u001b[?25hRequirement already satisfied: PyYAML in /home/ec2-user/anaconda3/envs/python3/lib/python3.10/site-packages (from optuna) (5.4.1)\n",
      "Requirement already satisfied: sqlalchemy>=1.3.0 in /home/ec2-user/anaconda3/envs/python3/lib/python3.10/site-packages (from optuna) (1.4.46)\n",
      "Collecting cmaes>=0.9.1\n",
      "  Downloading cmaes-0.9.1-py3-none-any.whl (21 kB)\n",
      "Requirement already satisfied: tqdm in /home/ec2-user/anaconda3/envs/python3/lib/python3.10/site-packages (from optuna) (4.64.1)\n",
      "Collecting alembic>=1.5.0\n",
      "  Downloading alembic-1.10.2-py3-none-any.whl (212 kB)\n",
      "\u001b[2K     \u001b[90m━━━━━━━━━━━━━━━━━━━━━━━━━━━━━━━━━━━━━━\u001b[0m \u001b[32m212.2/212.2 kB\u001b[0m \u001b[31m36.4 MB/s\u001b[0m eta \u001b[36m0:00:00\u001b[0m\n",
      "\u001b[?25hRequirement already satisfied: numpy in /home/ec2-user/anaconda3/envs/python3/lib/python3.10/site-packages (from optuna) (1.22.3)\n",
      "Collecting colorlog\n",
      "  Downloading colorlog-6.7.0-py2.py3-none-any.whl (11 kB)\n",
      "Requirement already satisfied: packaging>=20.0 in /home/ec2-user/anaconda3/envs/python3/lib/python3.10/site-packages (from optuna) (21.3)\n",
      "Collecting Mako\n",
      "  Downloading Mako-1.2.4-py3-none-any.whl (78 kB)\n",
      "\u001b[2K     \u001b[90m━━━━━━━━━━━━━━━━━━━━━━━━━━━━━━━━━━━━━━━━\u001b[0m \u001b[32m78.7/78.7 kB\u001b[0m \u001b[31m24.0 MB/s\u001b[0m eta \u001b[36m0:00:00\u001b[0m\n",
      "\u001b[?25hRequirement already satisfied: typing-extensions>=4 in /home/ec2-user/anaconda3/envs/python3/lib/python3.10/site-packages (from alembic>=1.5.0->optuna) (4.4.0)\n",
      "Requirement already satisfied: pyparsing!=3.0.5,>=2.0.2 in /home/ec2-user/anaconda3/envs/python3/lib/python3.10/site-packages (from packaging>=20.0->optuna) (3.0.9)\n",
      "Requirement already satisfied: greenlet!=0.4.17 in /home/ec2-user/anaconda3/envs/python3/lib/python3.10/site-packages (from sqlalchemy>=1.3.0->optuna) (2.0.1)\n",
      "Requirement already satisfied: MarkupSafe>=0.9.2 in /home/ec2-user/anaconda3/envs/python3/lib/python3.10/site-packages (from Mako->alembic>=1.5.0->optuna) (2.1.1)\n",
      "Installing collected packages: Mako, colorlog, cmaes, alembic, optuna\n",
      "Successfully installed Mako-1.2.4 alembic-1.10.2 cmaes-0.9.1 colorlog-6.7.0 optuna-3.1.0\n",
      "Note: you may need to restart the kernel to use updated packages.\n"
     ]
    }
   ],
   "source": [
    "pip install optuna"
   ]
  },
  {
   "cell_type": "code",
   "execution_count": 5,
   "id": "a4c9783b-910e-4643-9953-b1f6598f80f6",
   "metadata": {
    "tags": []
   },
   "outputs": [],
   "source": [
    "import boto3\n",
    "import pandas as pd\n",
    "import numpy as np\n",
    "import matplotlib.pyplot as plt\n",
    "\n",
    "from sklearn.model_selection import train_test_split, GridSearchCV, RandomizedSearchCV, StratifiedKFold\n",
    "from sklearn.preprocessing import MinMaxScaler\n",
    "from sklearn.linear_model import LogisticRegression\n",
    "from scipy.stats import boxcox\n",
    "from sklearn.tree import DecisionTreeClassifier, plot_tree\n",
    "from sklearn.ensemble import RandomForestClassifier, AdaBoostClassifier, GradientBoostingClassifier\n",
    "from sklearn.metrics import classification_report\n",
    "from sklearn.feature_selection import RFE, RFECV \n",
    "from sklearn.svm import SVR, SVC\n",
    "\n",
    "import optuna \n",
    "\n",
    "from cost_function import cost_function\n",
    "\n",
    "##reading the data \n",
    "train = pd.read_csv('turnover_train.csv')\n",
    "validation = pd.read_csv('turnover_val.csv')\n",
    "test = pd.read_csv('turnover_test.csv')\n"
   ]
  },
  {
   "cell_type": "code",
   "execution_count": 6,
   "id": "483c3f7b-796a-4255-9a91-a561f9b9cbe8",
   "metadata": {
    "tags": []
   },
   "outputs": [],
   "source": [
    "## Changing sales and salary to dummies\n",
    "train = pd.concat([train.drop(columns = ['sales', 'salary'], axis = 1), pd.get_dummies(train[['sales', 'salary']])], axis = 1)\n",
    "validation = pd.concat([validation.drop(columns = ['sales', 'salary'], axis = 1), pd.get_dummies(validation[['sales', 'salary']])], axis = 1)\n",
    "test = pd.concat([test.drop(columns = ['sales', 'salary'], axis = 1), pd.get_dummies(test[['sales', 'salary']])], axis = 1)\n"
   ]
  },
  {
   "cell_type": "code",
   "execution_count": 7,
   "id": "e168bc07-5dd1-485f-ad6d-8551b72e2c2a",
   "metadata": {
    "tags": []
   },
   "outputs": [],
   "source": [
    "##engineering features for the decision tree model\n",
    "train['interaction_1'] = np.where(((train['satisfaction_level'] >= .115) & \n",
    "                                     (train['satisfaction_level'] <= .465) & \n",
    "                                     (train['number_project'] > 2.5)), 1, 0)\n",
    "\n",
    "train['interaction_2'] = np.where(((train['satisfaction_level'] <= .465) & \n",
    "                                     (train['number_project'] <= 2.5) & \n",
    "                                     (train['last_evaluation'] <= .575)), 1, 0)\n",
    "\n",
    "train['interaction_3'] = np.where(((train['satisfaction_level'] > .465) & \n",
    "                                     (train['time_spend_company'] <= 4.5) & \n",
    "                                     (train['average_montly_hours'] <= 290.5)), 1, 0)\n",
    "\n",
    "##engineering features for the decision tree model\n",
    "validation['interaction_1'] = np.where(((validation['satisfaction_level'] >= .115) & \n",
    "                                     (validation['satisfaction_level'] <= .465) & \n",
    "                                     (validation['number_project'] > 2.5)), 1, 0)\n",
    "\n",
    "validation['interaction_2'] = np.where(((validation['satisfaction_level'] <= .465) & \n",
    "                                     (validation['number_project'] <= 2.5) & \n",
    "                                     (validation['last_evaluation'] <= .575)), 1, 0)\n",
    "\n",
    "validation['interaction_3'] = np.where(((validation['satisfaction_level'] > .465) & \n",
    "                                     (validation['time_spend_company'] <= 4.5) & \n",
    "                                     (validation['average_montly_hours'] <= 290.5)), 1, 0)\n",
    "\n",
    "##engineering features for the decision tree model\n",
    "test['interaction_1'] = np.where(((test['satisfaction_level'] >= .115) & \n",
    "                                     (test['satisfaction_level'] <= .465) & \n",
    "                                     (test['number_project'] > 2.5)), 1, 0)\n",
    "\n",
    "test['interaction_2'] = np.where(((test['satisfaction_level'] <= .465) & \n",
    "                                     (test['number_project'] <= 2.5) & \n",
    "                                     (test['last_evaluation'] <= .575)), 1, 0)\n",
    "\n",
    "test['interaction_3'] = np.where(((test['satisfaction_level'] > .465) & \n",
    "                                     (test['time_spend_company'] <= 4.5) & \n",
    "                                     (test['average_montly_hours'] <= 290.5)), 1, 0)"
   ]
  },
  {
   "cell_type": "markdown",
   "id": "a9706d54-6023-4a5f-b8df-171a06a64802",
   "metadata": {},
   "source": [
    "## Random Forest with Optuna"
   ]
  },
  {
   "cell_type": "code",
   "execution_count": 12,
   "id": "998cd9ed-a683-44ec-87f2-3606560ab3ce",
   "metadata": {
    "tags": []
   },
   "outputs": [],
   "source": [
    "X = train[['interaction_3', 'interaction_1','satisfaction_level', 'time_spend_company', 'number_project']]\n",
    "Y = train['left']\n",
    "\n",
    "class Objective:\n",
    "    def __init__(self, seed):\n",
    "        self.seed = seed\n",
    "        \n",
    "    def __call__(self, trial):\n",
    "        params = dict(n_estimators = trial.suggest_int('n_estimators', 100, 2000),\n",
    "                        min_samples_split = trial.suggest_int('min_samples_split', 5, 30),\n",
    "                        min_samples_leaf = trial.suggest_int('min_samples_leaf', 5, 30),\n",
    "                        max_depth = trial.suggest_int('max_depth', 2, 10)\n",
    "                        )\n",
    "    \n",
    "        scores = list()\n",
    "        \n",
    "        skf = StratifiedKFold(n_splits = 3, shuffle = True, random_state = self.seed)\n",
    "        \n",
    "        for train_idx, valid_idx in skf.split(X, Y):\n",
    "            X_train, X_valid = X.iloc[train_idx], X.iloc[valid_idx]\n",
    "            Y_train, Y_valid = Y.iloc[train_idx], Y.iloc[valid_idx]\n",
    "            \n",
    "            RF_md = RandomForestClassifier(**params).fit(X_train, Y_train)\n",
    "            pred_valid = RF_md.predict_proba(X_valid)[:, 1]\n",
    "            score = cost_function(Y_valid, pred_valid)\n",
    "            scores.append(score[0])\n",
    "            \n",
    "        return np.mean(scores)"
   ]
  },
  {
   "cell_type": "code",
   "execution_count": 14,
   "id": "09384edc-fd8b-4167-873a-643b3899f214",
   "metadata": {},
   "outputs": [
    {
     "name": "stderr",
     "output_type": "stream",
     "text": [
      "\u001b[32m[I 2023-03-24 17:48:35,034]\u001b[0m A new study created in memory with name: no-name-6d3ad1f7-f12a-4b83-9b2e-8b1b26c442e0\u001b[0m\n",
      "\u001b[32m[I 2023-03-24 17:48:50,862]\u001b[0m Trial 0 finished with value: 159166.66666666666 and parameters: {'n_estimators': 1823, 'min_samples_split': 28, 'min_samples_leaf': 17, 'max_depth': 3}. Best is trial 0 with value: 159166.66666666666.\u001b[0m\n",
      "\u001b[32m[I 2023-03-24 17:49:01,939]\u001b[0m Trial 1 finished with value: 259166.66666666666 and parameters: {'n_estimators': 1006, 'min_samples_split': 25, 'min_samples_leaf': 30, 'max_depth': 9}. Best is trial 1 with value: 259166.66666666666.\u001b[0m\n",
      "\u001b[32m[I 2023-03-24 17:49:15,508]\u001b[0m Trial 2 finished with value: 278166.6666666667 and parameters: {'n_estimators': 1342, 'min_samples_split': 11, 'min_samples_leaf': 17, 'max_depth': 6}. Best is trial 2 with value: 278166.6666666667.\u001b[0m\n",
      "\u001b[32m[I 2023-03-24 17:49:24,806]\u001b[0m Trial 3 finished with value: 215166.66666666666 and parameters: {'n_estimators': 1014, 'min_samples_split': 27, 'min_samples_leaf': 21, 'max_depth': 4}. Best is trial 2 with value: 278166.6666666667.\u001b[0m\n",
      "\u001b[32m[I 2023-03-24 17:49:39,795]\u001b[0m Trial 4 finished with value: 160166.66666666666 and parameters: {'n_estimators': 1753, 'min_samples_split': 29, 'min_samples_leaf': 5, 'max_depth': 3}. Best is trial 2 with value: 278166.6666666667.\u001b[0m\n",
      "\u001b[32m[I 2023-03-24 17:49:42,973]\u001b[0m Trial 5 finished with value: 156166.66666666666 and parameters: {'n_estimators': 361, 'min_samples_split': 24, 'min_samples_leaf': 19, 'max_depth': 3}. Best is trial 2 with value: 278166.6666666667.\u001b[0m\n",
      "\u001b[32m[I 2023-03-24 17:49:58,132]\u001b[0m Trial 6 finished with value: 291666.6666666667 and parameters: {'n_estimators': 1297, 'min_samples_split': 25, 'min_samples_leaf': 10, 'max_depth': 10}. Best is trial 6 with value: 291666.6666666667.\u001b[0m\n",
      "\u001b[32m[I 2023-03-24 17:50:08,954]\u001b[0m Trial 7 finished with value: 293666.6666666667 and parameters: {'n_estimators': 930, 'min_samples_split': 10, 'min_samples_leaf': 9, 'max_depth': 9}. Best is trial 7 with value: 293666.6666666667.\u001b[0m\n",
      "\u001b[32m[I 2023-03-24 17:50:13,069]\u001b[0m Trial 8 finished with value: 298666.6666666667 and parameters: {'n_estimators': 341, 'min_samples_split': 18, 'min_samples_leaf': 5, 'max_depth': 9}. Best is trial 8 with value: 298666.6666666667.\u001b[0m\n",
      "\u001b[32m[I 2023-03-24 17:50:27,687]\u001b[0m Trial 9 finished with value: 161666.66666666666 and parameters: {'n_estimators': 1734, 'min_samples_split': 15, 'min_samples_leaf': 22, 'max_depth': 3}. Best is trial 8 with value: 298666.6666666667.\u001b[0m\n",
      "\u001b[32m[I 2023-03-24 17:50:29,579]\u001b[0m Trial 10 finished with value: 291666.6666666667 and parameters: {'n_estimators': 161, 'min_samples_split': 19, 'min_samples_leaf': 12, 'max_depth': 7}. Best is trial 8 with value: 298666.6666666667.\u001b[0m\n",
      "\u001b[32m[I 2023-03-24 17:50:37,087]\u001b[0m Trial 11 finished with value: 298166.6666666667 and parameters: {'n_estimators': 630, 'min_samples_split': 5, 'min_samples_leaf': 5, 'max_depth': 9}. Best is trial 8 with value: 298666.6666666667.\u001b[0m\n",
      "\u001b[32m[I 2023-03-24 17:50:43,074]\u001b[0m Trial 12 finished with value: 295166.6666666667 and parameters: {'n_estimators': 545, 'min_samples_split': 5, 'min_samples_leaf': 5, 'max_depth': 7}. Best is trial 8 with value: 298666.6666666667.\u001b[0m\n",
      "\u001b[32m[I 2023-03-24 17:50:49,750]\u001b[0m Trial 13 finished with value: 291666.6666666667 and parameters: {'n_estimators': 593, 'min_samples_split': 19, 'min_samples_leaf': 13, 'max_depth': 8}. Best is trial 8 with value: 298666.6666666667.\u001b[0m\n",
      "/home/ec2-user/anaconda3/envs/python3/lib/python3.10/site-packages/optuna/samplers/_tpe/_erf.py:132: RuntimeWarning: divide by zero encountered in true_divide\n",
      "  s = one / (x * x)\n",
      "\u001b[32m[I 2023-03-24 17:50:58,217]\u001b[0m Trial 14 finished with value: 296666.6666666667 and parameters: {'n_estimators': 701, 'min_samples_split': 5, 'min_samples_leaf': 7, 'max_depth': 10}. Best is trial 8 with value: 298666.6666666667.\u001b[0m\n",
      "/home/ec2-user/anaconda3/envs/python3/lib/python3.10/site-packages/optuna/samplers/_tpe/_erf.py:132: RuntimeWarning: divide by zero encountered in true_divide\n",
      "  s = one / (x * x)\n",
      "\u001b[32m[I 2023-03-24 17:50:59,601]\u001b[0m Trial 15 finished with value: 277666.6666666667 and parameters: {'n_estimators': 126, 'min_samples_split': 15, 'min_samples_leaf': 14, 'max_depth': 5}. Best is trial 8 with value: 298666.6666666667.\u001b[0m\n",
      "\u001b[32m[I 2023-03-24 17:51:04,306]\u001b[0m Trial 16 finished with value: 262666.6666666667 and parameters: {'n_estimators': 419, 'min_samples_split': 21, 'min_samples_leaf': 27, 'max_depth': 8}. Best is trial 8 with value: 298666.6666666667.\u001b[0m\n",
      "\u001b[32m[I 2023-03-24 17:51:13,265]\u001b[0m Trial 17 finished with value: 293666.6666666667 and parameters: {'n_estimators': 776, 'min_samples_split': 10, 'min_samples_leaf': 8, 'max_depth': 9}. Best is trial 8 with value: 298666.6666666667.\u001b[0m\n",
      "\u001b[32m[I 2023-03-24 17:51:16,871]\u001b[0m Trial 18 finished with value: 295666.6666666667 and parameters: {'n_estimators': 326, 'min_samples_split': 14, 'min_samples_leaf': 5, 'max_depth': 7}. Best is trial 8 with value: 298666.6666666667.\u001b[0m\n",
      "\u001b[32m[I 2023-03-24 17:51:31,796]\u001b[0m Trial 19 finished with value: 291666.6666666667 and parameters: {'n_estimators': 1255, 'min_samples_split': 7, 'min_samples_leaf': 11, 'max_depth': 10}. Best is trial 8 with value: 298666.6666666667.\u001b[0m\n"
     ]
    }
   ],
   "source": [
    "SEED = 42\n",
    "N_TRIALS = 20\n",
    "\n",
    "study = optuna.create_study(direction = 'maximize')\n",
    "study.optimize(Objective(SEED), n_trials = N_TRIALS)"
   ]
  },
  {
   "cell_type": "code",
   "execution_count": 15,
   "id": "51691e97-f498-4d15-9a20-372e781b9ff8",
   "metadata": {
    "tags": []
   },
   "outputs": [
    {
     "data": {
      "text/plain": [
       "{'n_estimators': 341,\n",
       " 'min_samples_split': 18,\n",
       " 'min_samples_leaf': 5,\n",
       " 'max_depth': 9}"
      ]
     },
     "execution_count": 15,
     "metadata": {},
     "output_type": "execute_result"
    }
   ],
   "source": [
    "study.best_trial.params"
   ]
  },
  {
   "cell_type": "code",
   "execution_count": 19,
   "id": "86c83dd6-9954-4c0c-b839-c940e6d014bc",
   "metadata": {
    "tags": []
   },
   "outputs": [
    {
     "name": "stdout",
     "output_type": "stream",
     "text": [
      "[[1126   17]\n",
      " [  28  329]]\n",
      "The cost of the RF is: 105500\n"
     ]
    }
   ],
   "source": [
    "##building the random forest model\n",
    "from sklearn.metrics import confusion_matrix\n",
    "\n",
    "RF_md = RandomForestClassifier(**study.best_trial.params).fit(X,Y)\n",
    "\n",
    "##predicting on validation and test\n",
    "X_val = validation[['interaction_3', 'interaction_1','satisfaction_level', 'time_spend_company', 'number_project']]\n",
    "X_test = test[['interaction_3', 'interaction_1','satisfaction_level', 'time_spend_company', 'number_project']]\n",
    "Y_val = validation['left']\n",
    "Y_test = test['left']\n",
    "\n",
    "RF_val_pred = RF_md.predict_proba(X_val)[:, 1]\n",
    "RF_test_pred = RF_md.predict_proba(X_test)[:, 1]\n",
    "\n",
    "##identify the optimal cutoff\n",
    "opt_cutoff = cost_function(Y_val, RF_val_pred)[1]\n",
    "\n",
    "##changing likelihoods into labels\n",
    "RF_label = np.where(RF_test_pred < opt_cutoff, 0, 1)\n",
    "\n",
    "conf_mat = confusion_matrix(Y_test, RF_label)\n",
    "print(conf_mat)\n",
    "print('The cost of the RF is:', -1500 * conf_mat[1, 0] - 1000 * conf_mat[0, 1] + 500 * conf_mat[1, 1])"
   ]
  },
  {
   "cell_type": "markdown",
   "id": "6bc0b006-41f8-4269-8db0-85d0d3dc185d",
   "metadata": {},
   "source": [
    "## Ignore everything below"
   ]
  },
  {
   "cell_type": "markdown",
   "id": "8e6ad13e-236f-459c-ac6a-c86437bb0657",
   "metadata": {},
   "source": [
    "# GridSearchCV with ADABOOST"
   ]
  },
  {
   "cell_type": "code",
   "execution_count": 6,
   "id": "98cf4ee8-15a4-4b80-83ce-7cbe191cb2f7",
   "metadata": {
    "collapsed": true,
    "jupyter": {
     "outputs_hidden": true
    },
    "tags": []
   },
   "outputs": [
    {
     "name": "stderr",
     "output_type": "stream",
     "text": [
      "/home/ec2-user/anaconda3/envs/python3/lib/python3.10/site-packages/sklearn/ensemble/_base.py:166: FutureWarning: `base_estimator` was renamed to `estimator` in version 1.2 and will be removed in 1.4.\n",
      "  warnings.warn(\n",
      "/home/ec2-user/anaconda3/envs/python3/lib/python3.10/site-packages/sklearn/ensemble/_base.py:166: FutureWarning: `base_estimator` was renamed to `estimator` in version 1.2 and will be removed in 1.4.\n",
      "  warnings.warn(\n",
      "/home/ec2-user/anaconda3/envs/python3/lib/python3.10/site-packages/sklearn/ensemble/_base.py:166: FutureWarning: `base_estimator` was renamed to `estimator` in version 1.2 and will be removed in 1.4.\n",
      "  warnings.warn(\n",
      "/home/ec2-user/anaconda3/envs/python3/lib/python3.10/site-packages/sklearn/ensemble/_base.py:166: FutureWarning: `base_estimator` was renamed to `estimator` in version 1.2 and will be removed in 1.4.\n",
      "  warnings.warn(\n",
      "/home/ec2-user/anaconda3/envs/python3/lib/python3.10/site-packages/sklearn/ensemble/_base.py:166: FutureWarning: `base_estimator` was renamed to `estimator` in version 1.2 and will be removed in 1.4.\n",
      "  warnings.warn(\n",
      "/home/ec2-user/anaconda3/envs/python3/lib/python3.10/site-packages/sklearn/ensemble/_base.py:166: FutureWarning: `base_estimator` was renamed to `estimator` in version 1.2 and will be removed in 1.4.\n",
      "  warnings.warn(\n",
      "/home/ec2-user/anaconda3/envs/python3/lib/python3.10/site-packages/sklearn/ensemble/_base.py:166: FutureWarning: `base_estimator` was renamed to `estimator` in version 1.2 and will be removed in 1.4.\n",
      "  warnings.warn(\n",
      "/home/ec2-user/anaconda3/envs/python3/lib/python3.10/site-packages/sklearn/ensemble/_base.py:166: FutureWarning: `base_estimator` was renamed to `estimator` in version 1.2 and will be removed in 1.4.\n",
      "  warnings.warn(\n",
      "/home/ec2-user/anaconda3/envs/python3/lib/python3.10/site-packages/sklearn/ensemble/_base.py:166: FutureWarning: `base_estimator` was renamed to `estimator` in version 1.2 and will be removed in 1.4.\n",
      "  warnings.warn(\n",
      "/home/ec2-user/anaconda3/envs/python3/lib/python3.10/site-packages/sklearn/ensemble/_base.py:166: FutureWarning: `base_estimator` was renamed to `estimator` in version 1.2 and will be removed in 1.4.\n",
      "  warnings.warn(\n",
      "/home/ec2-user/anaconda3/envs/python3/lib/python3.10/site-packages/sklearn/ensemble/_base.py:166: FutureWarning: `base_estimator` was renamed to `estimator` in version 1.2 and will be removed in 1.4.\n",
      "  warnings.warn(\n",
      "/home/ec2-user/anaconda3/envs/python3/lib/python3.10/site-packages/sklearn/ensemble/_base.py:166: FutureWarning: `base_estimator` was renamed to `estimator` in version 1.2 and will be removed in 1.4.\n",
      "  warnings.warn(\n",
      "/home/ec2-user/anaconda3/envs/python3/lib/python3.10/site-packages/sklearn/ensemble/_base.py:166: FutureWarning: `base_estimator` was renamed to `estimator` in version 1.2 and will be removed in 1.4.\n",
      "  warnings.warn(\n",
      "/home/ec2-user/anaconda3/envs/python3/lib/python3.10/site-packages/sklearn/ensemble/_base.py:166: FutureWarning: `base_estimator` was renamed to `estimator` in version 1.2 and will be removed in 1.4.\n",
      "  warnings.warn(\n",
      "/home/ec2-user/anaconda3/envs/python3/lib/python3.10/site-packages/sklearn/ensemble/_base.py:166: FutureWarning: `base_estimator` was renamed to `estimator` in version 1.2 and will be removed in 1.4.\n",
      "  warnings.warn(\n",
      "/home/ec2-user/anaconda3/envs/python3/lib/python3.10/site-packages/sklearn/ensemble/_base.py:166: FutureWarning: `base_estimator` was renamed to `estimator` in version 1.2 and will be removed in 1.4.\n",
      "  warnings.warn(\n",
      "/home/ec2-user/anaconda3/envs/python3/lib/python3.10/site-packages/sklearn/ensemble/_base.py:166: FutureWarning: `base_estimator` was renamed to `estimator` in version 1.2 and will be removed in 1.4.\n",
      "  warnings.warn(\n",
      "/home/ec2-user/anaconda3/envs/python3/lib/python3.10/site-packages/sklearn/ensemble/_base.py:166: FutureWarning: `base_estimator` was renamed to `estimator` in version 1.2 and will be removed in 1.4.\n",
      "  warnings.warn(\n",
      "/home/ec2-user/anaconda3/envs/python3/lib/python3.10/site-packages/sklearn/ensemble/_base.py:166: FutureWarning: `base_estimator` was renamed to `estimator` in version 1.2 and will be removed in 1.4.\n",
      "  warnings.warn(\n",
      "/home/ec2-user/anaconda3/envs/python3/lib/python3.10/site-packages/sklearn/ensemble/_base.py:166: FutureWarning: `base_estimator` was renamed to `estimator` in version 1.2 and will be removed in 1.4.\n",
      "  warnings.warn(\n",
      "/home/ec2-user/anaconda3/envs/python3/lib/python3.10/site-packages/sklearn/ensemble/_base.py:166: FutureWarning: `base_estimator` was renamed to `estimator` in version 1.2 and will be removed in 1.4.\n",
      "  warnings.warn(\n",
      "/home/ec2-user/anaconda3/envs/python3/lib/python3.10/site-packages/sklearn/ensemble/_base.py:166: FutureWarning: `base_estimator` was renamed to `estimator` in version 1.2 and will be removed in 1.4.\n",
      "  warnings.warn(\n",
      "/home/ec2-user/anaconda3/envs/python3/lib/python3.10/site-packages/sklearn/ensemble/_base.py:166: FutureWarning: `base_estimator` was renamed to `estimator` in version 1.2 and will be removed in 1.4.\n",
      "  warnings.warn(\n",
      "/home/ec2-user/anaconda3/envs/python3/lib/python3.10/site-packages/sklearn/ensemble/_base.py:166: FutureWarning: `base_estimator` was renamed to `estimator` in version 1.2 and will be removed in 1.4.\n",
      "  warnings.warn(\n",
      "/home/ec2-user/anaconda3/envs/python3/lib/python3.10/site-packages/sklearn/ensemble/_base.py:166: FutureWarning: `base_estimator` was renamed to `estimator` in version 1.2 and will be removed in 1.4.\n",
      "  warnings.warn(\n",
      "/home/ec2-user/anaconda3/envs/python3/lib/python3.10/site-packages/sklearn/ensemble/_base.py:166: FutureWarning: `base_estimator` was renamed to `estimator` in version 1.2 and will be removed in 1.4.\n",
      "  warnings.warn(\n",
      "/home/ec2-user/anaconda3/envs/python3/lib/python3.10/site-packages/sklearn/ensemble/_base.py:166: FutureWarning: `base_estimator` was renamed to `estimator` in version 1.2 and will be removed in 1.4.\n",
      "  warnings.warn(\n",
      "/home/ec2-user/anaconda3/envs/python3/lib/python3.10/site-packages/sklearn/ensemble/_base.py:166: FutureWarning: `base_estimator` was renamed to `estimator` in version 1.2 and will be removed in 1.4.\n",
      "  warnings.warn(\n",
      "/home/ec2-user/anaconda3/envs/python3/lib/python3.10/site-packages/sklearn/ensemble/_base.py:166: FutureWarning: `base_estimator` was renamed to `estimator` in version 1.2 and will be removed in 1.4.\n",
      "  warnings.warn(\n",
      "/home/ec2-user/anaconda3/envs/python3/lib/python3.10/site-packages/sklearn/ensemble/_base.py:166: FutureWarning: `base_estimator` was renamed to `estimator` in version 1.2 and will be removed in 1.4.\n",
      "  warnings.warn(\n",
      "/home/ec2-user/anaconda3/envs/python3/lib/python3.10/site-packages/sklearn/ensemble/_base.py:166: FutureWarning: `base_estimator` was renamed to `estimator` in version 1.2 and will be removed in 1.4.\n",
      "  warnings.warn(\n",
      "/home/ec2-user/anaconda3/envs/python3/lib/python3.10/site-packages/sklearn/ensemble/_base.py:166: FutureWarning: `base_estimator` was renamed to `estimator` in version 1.2 and will be removed in 1.4.\n",
      "  warnings.warn(\n",
      "/home/ec2-user/anaconda3/envs/python3/lib/python3.10/site-packages/sklearn/ensemble/_base.py:166: FutureWarning: `base_estimator` was renamed to `estimator` in version 1.2 and will be removed in 1.4.\n",
      "  warnings.warn(\n",
      "/home/ec2-user/anaconda3/envs/python3/lib/python3.10/site-packages/sklearn/ensemble/_base.py:166: FutureWarning: `base_estimator` was renamed to `estimator` in version 1.2 and will be removed in 1.4.\n",
      "  warnings.warn(\n",
      "/home/ec2-user/anaconda3/envs/python3/lib/python3.10/site-packages/sklearn/ensemble/_base.py:166: FutureWarning: `base_estimator` was renamed to `estimator` in version 1.2 and will be removed in 1.4.\n",
      "  warnings.warn(\n",
      "/home/ec2-user/anaconda3/envs/python3/lib/python3.10/site-packages/sklearn/ensemble/_base.py:166: FutureWarning: `base_estimator` was renamed to `estimator` in version 1.2 and will be removed in 1.4.\n",
      "  warnings.warn(\n",
      "/home/ec2-user/anaconda3/envs/python3/lib/python3.10/site-packages/sklearn/ensemble/_base.py:166: FutureWarning: `base_estimator` was renamed to `estimator` in version 1.2 and will be removed in 1.4.\n",
      "  warnings.warn(\n",
      "/home/ec2-user/anaconda3/envs/python3/lib/python3.10/site-packages/sklearn/ensemble/_base.py:166: FutureWarning: `base_estimator` was renamed to `estimator` in version 1.2 and will be removed in 1.4.\n",
      "  warnings.warn(\n",
      "/home/ec2-user/anaconda3/envs/python3/lib/python3.10/site-packages/sklearn/ensemble/_base.py:166: FutureWarning: `base_estimator` was renamed to `estimator` in version 1.2 and will be removed in 1.4.\n",
      "  warnings.warn(\n",
      "/home/ec2-user/anaconda3/envs/python3/lib/python3.10/site-packages/sklearn/ensemble/_base.py:166: FutureWarning: `base_estimator` was renamed to `estimator` in version 1.2 and will be removed in 1.4.\n",
      "  warnings.warn(\n",
      "/home/ec2-user/anaconda3/envs/python3/lib/python3.10/site-packages/sklearn/ensemble/_base.py:166: FutureWarning: `base_estimator` was renamed to `estimator` in version 1.2 and will be removed in 1.4.\n",
      "  warnings.warn(\n",
      "/home/ec2-user/anaconda3/envs/python3/lib/python3.10/site-packages/sklearn/ensemble/_base.py:166: FutureWarning: `base_estimator` was renamed to `estimator` in version 1.2 and will be removed in 1.4.\n",
      "  warnings.warn(\n",
      "/home/ec2-user/anaconda3/envs/python3/lib/python3.10/site-packages/sklearn/ensemble/_base.py:166: FutureWarning: `base_estimator` was renamed to `estimator` in version 1.2 and will be removed in 1.4.\n",
      "  warnings.warn(\n",
      "/home/ec2-user/anaconda3/envs/python3/lib/python3.10/site-packages/sklearn/ensemble/_base.py:166: FutureWarning: `base_estimator` was renamed to `estimator` in version 1.2 and will be removed in 1.4.\n",
      "  warnings.warn(\n",
      "/home/ec2-user/anaconda3/envs/python3/lib/python3.10/site-packages/sklearn/ensemble/_base.py:166: FutureWarning: `base_estimator` was renamed to `estimator` in version 1.2 and will be removed in 1.4.\n",
      "  warnings.warn(\n",
      "/home/ec2-user/anaconda3/envs/python3/lib/python3.10/site-packages/sklearn/ensemble/_base.py:166: FutureWarning: `base_estimator` was renamed to `estimator` in version 1.2 and will be removed in 1.4.\n",
      "  warnings.warn(\n",
      "/home/ec2-user/anaconda3/envs/python3/lib/python3.10/site-packages/sklearn/ensemble/_base.py:166: FutureWarning: `base_estimator` was renamed to `estimator` in version 1.2 and will be removed in 1.4.\n",
      "  warnings.warn(\n",
      "/home/ec2-user/anaconda3/envs/python3/lib/python3.10/site-packages/sklearn/ensemble/_base.py:166: FutureWarning: `base_estimator` was renamed to `estimator` in version 1.2 and will be removed in 1.4.\n",
      "  warnings.warn(\n",
      "/home/ec2-user/anaconda3/envs/python3/lib/python3.10/site-packages/sklearn/ensemble/_base.py:166: FutureWarning: `base_estimator` was renamed to `estimator` in version 1.2 and will be removed in 1.4.\n",
      "  warnings.warn(\n",
      "/home/ec2-user/anaconda3/envs/python3/lib/python3.10/site-packages/sklearn/ensemble/_base.py:166: FutureWarning: `base_estimator` was renamed to `estimator` in version 1.2 and will be removed in 1.4.\n",
      "  warnings.warn(\n",
      "/home/ec2-user/anaconda3/envs/python3/lib/python3.10/site-packages/sklearn/ensemble/_base.py:166: FutureWarning: `base_estimator` was renamed to `estimator` in version 1.2 and will be removed in 1.4.\n",
      "  warnings.warn(\n",
      "/home/ec2-user/anaconda3/envs/python3/lib/python3.10/site-packages/sklearn/ensemble/_base.py:166: FutureWarning: `base_estimator` was renamed to `estimator` in version 1.2 and will be removed in 1.4.\n",
      "  warnings.warn(\n",
      "/home/ec2-user/anaconda3/envs/python3/lib/python3.10/site-packages/sklearn/ensemble/_base.py:166: FutureWarning: `base_estimator` was renamed to `estimator` in version 1.2 and will be removed in 1.4.\n",
      "  warnings.warn(\n",
      "/home/ec2-user/anaconda3/envs/python3/lib/python3.10/site-packages/sklearn/ensemble/_base.py:166: FutureWarning: `base_estimator` was renamed to `estimator` in version 1.2 and will be removed in 1.4.\n",
      "  warnings.warn(\n",
      "/home/ec2-user/anaconda3/envs/python3/lib/python3.10/site-packages/sklearn/ensemble/_base.py:166: FutureWarning: `base_estimator` was renamed to `estimator` in version 1.2 and will be removed in 1.4.\n",
      "  warnings.warn(\n",
      "/home/ec2-user/anaconda3/envs/python3/lib/python3.10/site-packages/sklearn/ensemble/_base.py:166: FutureWarning: `base_estimator` was renamed to `estimator` in version 1.2 and will be removed in 1.4.\n",
      "  warnings.warn(\n",
      "/home/ec2-user/anaconda3/envs/python3/lib/python3.10/site-packages/sklearn/ensemble/_base.py:166: FutureWarning: `base_estimator` was renamed to `estimator` in version 1.2 and will be removed in 1.4.\n",
      "  warnings.warn(\n",
      "/home/ec2-user/anaconda3/envs/python3/lib/python3.10/site-packages/sklearn/ensemble/_base.py:166: FutureWarning: `base_estimator` was renamed to `estimator` in version 1.2 and will be removed in 1.4.\n",
      "  warnings.warn(\n",
      "/home/ec2-user/anaconda3/envs/python3/lib/python3.10/site-packages/sklearn/ensemble/_base.py:166: FutureWarning: `base_estimator` was renamed to `estimator` in version 1.2 and will be removed in 1.4.\n",
      "  warnings.warn(\n",
      "/home/ec2-user/anaconda3/envs/python3/lib/python3.10/site-packages/sklearn/ensemble/_base.py:166: FutureWarning: `base_estimator` was renamed to `estimator` in version 1.2 and will be removed in 1.4.\n",
      "  warnings.warn(\n",
      "/home/ec2-user/anaconda3/envs/python3/lib/python3.10/site-packages/sklearn/ensemble/_base.py:166: FutureWarning: `base_estimator` was renamed to `estimator` in version 1.2 and will be removed in 1.4.\n",
      "  warnings.warn(\n",
      "/home/ec2-user/anaconda3/envs/python3/lib/python3.10/site-packages/sklearn/ensemble/_base.py:166: FutureWarning: `base_estimator` was renamed to `estimator` in version 1.2 and will be removed in 1.4.\n",
      "  warnings.warn(\n",
      "/home/ec2-user/anaconda3/envs/python3/lib/python3.10/site-packages/sklearn/ensemble/_base.py:166: FutureWarning: `base_estimator` was renamed to `estimator` in version 1.2 and will be removed in 1.4.\n",
      "  warnings.warn(\n",
      "/home/ec2-user/anaconda3/envs/python3/lib/python3.10/site-packages/sklearn/ensemble/_base.py:166: FutureWarning: `base_estimator` was renamed to `estimator` in version 1.2 and will be removed in 1.4.\n",
      "  warnings.warn(\n",
      "/home/ec2-user/anaconda3/envs/python3/lib/python3.10/site-packages/sklearn/ensemble/_base.py:166: FutureWarning: `base_estimator` was renamed to `estimator` in version 1.2 and will be removed in 1.4.\n",
      "  warnings.warn(\n",
      "/home/ec2-user/anaconda3/envs/python3/lib/python3.10/site-packages/sklearn/ensemble/_base.py:166: FutureWarning: `base_estimator` was renamed to `estimator` in version 1.2 and will be removed in 1.4.\n",
      "  warnings.warn(\n",
      "/home/ec2-user/anaconda3/envs/python3/lib/python3.10/site-packages/sklearn/ensemble/_base.py:166: FutureWarning: `base_estimator` was renamed to `estimator` in version 1.2 and will be removed in 1.4.\n",
      "  warnings.warn(\n",
      "/home/ec2-user/anaconda3/envs/python3/lib/python3.10/site-packages/sklearn/ensemble/_base.py:166: FutureWarning: `base_estimator` was renamed to `estimator` in version 1.2 and will be removed in 1.4.\n",
      "  warnings.warn(\n",
      "/home/ec2-user/anaconda3/envs/python3/lib/python3.10/site-packages/sklearn/ensemble/_base.py:166: FutureWarning: `base_estimator` was renamed to `estimator` in version 1.2 and will be removed in 1.4.\n",
      "  warnings.warn(\n",
      "/home/ec2-user/anaconda3/envs/python3/lib/python3.10/site-packages/sklearn/ensemble/_base.py:166: FutureWarning: `base_estimator` was renamed to `estimator` in version 1.2 and will be removed in 1.4.\n",
      "  warnings.warn(\n",
      "/home/ec2-user/anaconda3/envs/python3/lib/python3.10/site-packages/sklearn/ensemble/_base.py:166: FutureWarning: `base_estimator` was renamed to `estimator` in version 1.2 and will be removed in 1.4.\n",
      "  warnings.warn(\n",
      "/home/ec2-user/anaconda3/envs/python3/lib/python3.10/site-packages/sklearn/ensemble/_base.py:166: FutureWarning: `base_estimator` was renamed to `estimator` in version 1.2 and will be removed in 1.4.\n",
      "  warnings.warn(\n",
      "/home/ec2-user/anaconda3/envs/python3/lib/python3.10/site-packages/sklearn/ensemble/_base.py:166: FutureWarning: `base_estimator` was renamed to `estimator` in version 1.2 and will be removed in 1.4.\n",
      "  warnings.warn(\n"
     ]
    },
    {
     "data": {
      "text/plain": [
       "{'base_estimator__max_depth': 5,\n",
       " 'base_estimator__min_samples_leaf': 5,\n",
       " 'base_estimator__min_samples_split': 15,\n",
       " 'learning_rate': 0.01,\n",
       " 'n_estimators': 300}"
      ]
     },
     "execution_count": 6,
     "metadata": {},
     "output_type": "execute_result"
    }
   ],
   "source": [
    "## GridSearchCV With adaboost\n",
    "Ada_param_grid = {'n_estimators': [100, 300],\n",
    "                    'base_estimator__min_samples_split': [10, 15],\n",
    "                    'base_estimator__min_samples_leaf': [5, 7],\n",
    "                    'base_estimator__max_depth': [3, 5, 7],\n",
    "                    'learning_rate': [0.01]}\n",
    "\n",
    "\n",
    "## running GridSearchCV\n",
    "Ada_grid_search = GridSearchCV(estimator = AdaBoostClassifier(base_estimator = DecisionTreeClassifier()),\n",
    "                               param_grid = Ada_param_grid, \n",
    "                               cv = 3,\n",
    "                               scoring = 'f1',\n",
    "                               n_jobs = -1).fit(X_train, Y_train)\n",
    "\n",
    "##extracting the best hyper-parameter combination\n",
    "Ada_grid_search.best_params_\n",
    "\n",
    "'''\n",
    "{'base_estimator__max_depth': 5,\n",
    " 'base_estimator__min_samples_leaf': 5,\n",
    " 'base_estimator__min_samples_split': 15,\n",
    " 'learning_rate': 0.01,\n",
    " 'n_estimators': 300}'''"
   ]
  },
  {
   "cell_type": "code",
   "execution_count": 7,
   "id": "ab98404f-9fd8-4399-8383-59cc4c873cec",
   "metadata": {
    "tags": []
   },
   "outputs": [
    {
     "name": "stderr",
     "output_type": "stream",
     "text": [
      "/home/ec2-user/anaconda3/envs/python3/lib/python3.10/site-packages/sklearn/ensemble/_base.py:166: FutureWarning: `base_estimator` was renamed to `estimator` in version 1.2 and will be removed in 1.4.\n",
      "  warnings.warn(\n"
     ]
    },
    {
     "name": "stdout",
     "output_type": "stream",
     "text": [
      "              precision    recall  f1-score   support\n",
      "\n",
      "           0       0.97      0.98      0.98      2286\n",
      "           1       0.94      0.92      0.93       714\n",
      "\n",
      "    accuracy                           0.97      3000\n",
      "   macro avg       0.96      0.95      0.95      3000\n",
      "weighted avg       0.97      0.97      0.97      3000\n",
      "\n"
     ]
    }
   ],
   "source": [
    "## building a random forest with best hyper-parameters\n",
    "Ada = AdaBoostClassifier(base_estimator = DecisionTreeClassifier(min_samples_split = 15, min_samples_leaf = 5, max_depth = 5),\n",
    "                        n_estimators = 300,\n",
    "                        learning_rate = .01).fit(X_train, Y_train)\n",
    "\n",
    "##predicting on test\n",
    "Ada_pred = Ada.predict_proba(X_test)[:, 1]\n",
    "\n",
    "## changing liklihoods into labels \n",
    "Ada_labels = precision_recall_cutoff(Y_test, Ada_pred)\n",
    "\n",
    "print(classification_report(Y_test, Ada_labels))"
   ]
  },
  {
   "cell_type": "markdown",
   "id": "de359289-a903-4ccd-95f0-712b817bc584",
   "metadata": {},
   "source": [
    "# RandomizedSearchCV with AdaBoost"
   ]
  },
  {
   "cell_type": "code",
   "execution_count": 11,
   "id": "0f077150-8831-4472-87bf-642c7a95b20b",
   "metadata": {
    "collapsed": true,
    "jupyter": {
     "outputs_hidden": true
    },
    "tags": []
   },
   "outputs": [
    {
     "name": "stderr",
     "output_type": "stream",
     "text": [
      "/home/ec2-user/anaconda3/envs/python3/lib/python3.10/site-packages/sklearn/ensemble/_base.py:166: FutureWarning: `base_estimator` was renamed to `estimator` in version 1.2 and will be removed in 1.4.\n",
      "  warnings.warn(\n",
      "/home/ec2-user/anaconda3/envs/python3/lib/python3.10/site-packages/sklearn/ensemble/_base.py:166: FutureWarning: `base_estimator` was renamed to `estimator` in version 1.2 and will be removed in 1.4.\n",
      "  warnings.warn(\n",
      "/home/ec2-user/anaconda3/envs/python3/lib/python3.10/site-packages/sklearn/ensemble/_base.py:166: FutureWarning: `base_estimator` was renamed to `estimator` in version 1.2 and will be removed in 1.4.\n",
      "  warnings.warn(\n",
      "/home/ec2-user/anaconda3/envs/python3/lib/python3.10/site-packages/sklearn/ensemble/_base.py:166: FutureWarning: `base_estimator` was renamed to `estimator` in version 1.2 and will be removed in 1.4.\n",
      "  warnings.warn(\n",
      "/home/ec2-user/anaconda3/envs/python3/lib/python3.10/site-packages/sklearn/ensemble/_base.py:166: FutureWarning: `base_estimator` was renamed to `estimator` in version 1.2 and will be removed in 1.4.\n",
      "  warnings.warn(\n",
      "/home/ec2-user/anaconda3/envs/python3/lib/python3.10/site-packages/sklearn/ensemble/_base.py:166: FutureWarning: `base_estimator` was renamed to `estimator` in version 1.2 and will be removed in 1.4.\n",
      "  warnings.warn(\n",
      "/home/ec2-user/anaconda3/envs/python3/lib/python3.10/site-packages/sklearn/ensemble/_base.py:166: FutureWarning: `base_estimator` was renamed to `estimator` in version 1.2 and will be removed in 1.4.\n",
      "  warnings.warn(\n",
      "/home/ec2-user/anaconda3/envs/python3/lib/python3.10/site-packages/sklearn/ensemble/_base.py:166: FutureWarning: `base_estimator` was renamed to `estimator` in version 1.2 and will be removed in 1.4.\n",
      "  warnings.warn(\n",
      "/home/ec2-user/anaconda3/envs/python3/lib/python3.10/site-packages/sklearn/ensemble/_base.py:166: FutureWarning: `base_estimator` was renamed to `estimator` in version 1.2 and will be removed in 1.4.\n",
      "  warnings.warn(\n",
      "/home/ec2-user/anaconda3/envs/python3/lib/python3.10/site-packages/sklearn/ensemble/_base.py:166: FutureWarning: `base_estimator` was renamed to `estimator` in version 1.2 and will be removed in 1.4.\n",
      "  warnings.warn(\n",
      "/home/ec2-user/anaconda3/envs/python3/lib/python3.10/site-packages/sklearn/ensemble/_base.py:166: FutureWarning: `base_estimator` was renamed to `estimator` in version 1.2 and will be removed in 1.4.\n",
      "  warnings.warn(\n",
      "/home/ec2-user/anaconda3/envs/python3/lib/python3.10/site-packages/sklearn/ensemble/_base.py:166: FutureWarning: `base_estimator` was renamed to `estimator` in version 1.2 and will be removed in 1.4.\n",
      "  warnings.warn(\n",
      "/home/ec2-user/anaconda3/envs/python3/lib/python3.10/site-packages/sklearn/ensemble/_base.py:166: FutureWarning: `base_estimator` was renamed to `estimator` in version 1.2 and will be removed in 1.4.\n",
      "  warnings.warn(\n",
      "/home/ec2-user/anaconda3/envs/python3/lib/python3.10/site-packages/sklearn/ensemble/_base.py:166: FutureWarning: `base_estimator` was renamed to `estimator` in version 1.2 and will be removed in 1.4.\n",
      "  warnings.warn(\n",
      "/home/ec2-user/anaconda3/envs/python3/lib/python3.10/site-packages/sklearn/ensemble/_base.py:166: FutureWarning: `base_estimator` was renamed to `estimator` in version 1.2 and will be removed in 1.4.\n",
      "  warnings.warn(\n",
      "/home/ec2-user/anaconda3/envs/python3/lib/python3.10/site-packages/sklearn/ensemble/_base.py:166: FutureWarning: `base_estimator` was renamed to `estimator` in version 1.2 and will be removed in 1.4.\n",
      "  warnings.warn(\n",
      "/home/ec2-user/anaconda3/envs/python3/lib/python3.10/site-packages/sklearn/ensemble/_base.py:166: FutureWarning: `base_estimator` was renamed to `estimator` in version 1.2 and will be removed in 1.4.\n",
      "  warnings.warn(\n",
      "/home/ec2-user/anaconda3/envs/python3/lib/python3.10/site-packages/sklearn/ensemble/_base.py:166: FutureWarning: `base_estimator` was renamed to `estimator` in version 1.2 and will be removed in 1.4.\n",
      "  warnings.warn(\n",
      "/home/ec2-user/anaconda3/envs/python3/lib/python3.10/site-packages/sklearn/ensemble/_base.py:166: FutureWarning: `base_estimator` was renamed to `estimator` in version 1.2 and will be removed in 1.4.\n",
      "  warnings.warn(\n",
      "/home/ec2-user/anaconda3/envs/python3/lib/python3.10/site-packages/sklearn/ensemble/_base.py:166: FutureWarning: `base_estimator` was renamed to `estimator` in version 1.2 and will be removed in 1.4.\n",
      "  warnings.warn(\n",
      "/home/ec2-user/anaconda3/envs/python3/lib/python3.10/site-packages/sklearn/ensemble/_base.py:166: FutureWarning: `base_estimator` was renamed to `estimator` in version 1.2 and will be removed in 1.4.\n",
      "  warnings.warn(\n",
      "/home/ec2-user/anaconda3/envs/python3/lib/python3.10/site-packages/sklearn/ensemble/_base.py:166: FutureWarning: `base_estimator` was renamed to `estimator` in version 1.2 and will be removed in 1.4.\n",
      "  warnings.warn(\n",
      "/home/ec2-user/anaconda3/envs/python3/lib/python3.10/site-packages/sklearn/ensemble/_base.py:166: FutureWarning: `base_estimator` was renamed to `estimator` in version 1.2 and will be removed in 1.4.\n",
      "  warnings.warn(\n",
      "/home/ec2-user/anaconda3/envs/python3/lib/python3.10/site-packages/sklearn/ensemble/_base.py:166: FutureWarning: `base_estimator` was renamed to `estimator` in version 1.2 and will be removed in 1.4.\n",
      "  warnings.warn(\n",
      "/home/ec2-user/anaconda3/envs/python3/lib/python3.10/site-packages/sklearn/ensemble/_base.py:166: FutureWarning: `base_estimator` was renamed to `estimator` in version 1.2 and will be removed in 1.4.\n",
      "  warnings.warn(\n",
      "/home/ec2-user/anaconda3/envs/python3/lib/python3.10/site-packages/sklearn/ensemble/_base.py:166: FutureWarning: `base_estimator` was renamed to `estimator` in version 1.2 and will be removed in 1.4.\n",
      "  warnings.warn(\n",
      "/home/ec2-user/anaconda3/envs/python3/lib/python3.10/site-packages/sklearn/ensemble/_base.py:166: FutureWarning: `base_estimator` was renamed to `estimator` in version 1.2 and will be removed in 1.4.\n",
      "  warnings.warn(\n",
      "/home/ec2-user/anaconda3/envs/python3/lib/python3.10/site-packages/sklearn/ensemble/_base.py:166: FutureWarning: `base_estimator` was renamed to `estimator` in version 1.2 and will be removed in 1.4.\n",
      "  warnings.warn(\n",
      "/home/ec2-user/anaconda3/envs/python3/lib/python3.10/site-packages/sklearn/ensemble/_base.py:166: FutureWarning: `base_estimator` was renamed to `estimator` in version 1.2 and will be removed in 1.4.\n",
      "  warnings.warn(\n",
      "/home/ec2-user/anaconda3/envs/python3/lib/python3.10/site-packages/sklearn/ensemble/_base.py:166: FutureWarning: `base_estimator` was renamed to `estimator` in version 1.2 and will be removed in 1.4.\n",
      "  warnings.warn(\n",
      "/home/ec2-user/anaconda3/envs/python3/lib/python3.10/site-packages/sklearn/ensemble/_base.py:166: FutureWarning: `base_estimator` was renamed to `estimator` in version 1.2 and will be removed in 1.4.\n",
      "  warnings.warn(\n"
     ]
    },
    {
     "data": {
      "text/plain": [
       "{'n_estimators': 100,\n",
       " 'learning_rate': 0.01,\n",
       " 'base_estimator__min_samples_split': 10,\n",
       " 'base_estimator__min_samples_leaf': 5,\n",
       " 'base_estimator__max_depth': 7}"
      ]
     },
     "execution_count": 11,
     "metadata": {},
     "output_type": "execute_result"
    }
   ],
   "source": [
    "## GridSearchCV With adaboost\n",
    "Ada_param_grid = {'n_estimators': [100, 300],\n",
    "                    'base_estimator__min_samples_split': [10, 15],\n",
    "                    'base_estimator__min_samples_leaf': [5, 7],\n",
    "                    'base_estimator__max_depth': [3, 5, 7],\n",
    "                    'learning_rate': [0.01]}\n",
    "\n",
    "\n",
    "## running GridSearchCV\n",
    "Ada_grid_search = RandomizedSearchCV(AdaBoostClassifier(base_estimator = DecisionTreeClassifier()),\n",
    "                               param_distributions = Ada_param_grid, \n",
    "                               cv = 3,\n",
    "                               scoring = 'f1',\n",
    "                               n_jobs = -1,\n",
    "                               n_iter = 10).fit(X_train, Y_train)\n",
    "\n",
    "##extracting the best hyper-parameter combination\n",
    "Ada_grid_search.best_params_\n",
    "\n",
    "'''\n",
    "{'n_estimators': 100,\n",
    " 'learning_rate': 0.01,\n",
    " 'base_estimator__min_samples_split': 10,\n",
    " 'base_estimator__min_samples_leaf': 5,\n",
    " 'base_estimator__max_depth': 7}\n",
    " '''"
   ]
  },
  {
   "cell_type": "code",
   "execution_count": 12,
   "id": "347389cc-bfa8-4a1c-8289-3bd96954878e",
   "metadata": {
    "tags": []
   },
   "outputs": [
    {
     "name": "stderr",
     "output_type": "stream",
     "text": [
      "/home/ec2-user/anaconda3/envs/python3/lib/python3.10/site-packages/sklearn/ensemble/_base.py:166: FutureWarning: `base_estimator` was renamed to `estimator` in version 1.2 and will be removed in 1.4.\n",
      "  warnings.warn(\n"
     ]
    },
    {
     "name": "stdout",
     "output_type": "stream",
     "text": [
      "              precision    recall  f1-score   support\n",
      "\n",
      "           0       0.98      0.98      0.98      2286\n",
      "           1       0.94      0.92      0.93       714\n",
      "\n",
      "    accuracy                           0.97      3000\n",
      "   macro avg       0.96      0.95      0.95      3000\n",
      "weighted avg       0.97      0.97      0.97      3000\n",
      "\n"
     ]
    }
   ],
   "source": [
    "## building a random forest with best hyper-parameters\n",
    "Ada = AdaBoostClassifier(base_estimator = DecisionTreeClassifier(min_samples_split = 10, min_samples_leaf = 5, max_depth = 7),\n",
    "                        n_estimators = 100,\n",
    "                        learning_rate = .01).fit(X_train, Y_train)\n",
    "\n",
    "##predicting on test\n",
    "Ada_pred = Ada.predict_proba(X_test)[:, 1]\n",
    "\n",
    "## changing liklihoods into labels \n",
    "Ada_labels = precision_recall_cutoff(Y_test, Ada_pred)\n",
    "\n",
    "print(classification_report(Y_test, Ada_labels))"
   ]
  },
  {
   "cell_type": "code",
   "execution_count": null,
   "id": "f69bb33f-0a8e-469c-995e-94672a4ed7ce",
   "metadata": {
    "tags": []
   },
   "outputs": [],
   "source": [
    "## Based on my results, I would go with the model from part 6 to predict left. "
   ]
  }
 ],
 "metadata": {
  "kernelspec": {
   "display_name": "conda_python3",
   "language": "python",
   "name": "conda_python3"
  },
  "language_info": {
   "codemirror_mode": {
    "name": "ipython",
    "version": 3
   },
   "file_extension": ".py",
   "mimetype": "text/x-python",
   "name": "python",
   "nbconvert_exporter": "python",
   "pygments_lexer": "ipython3",
   "version": "3.10.8"
  }
 },
 "nbformat": 4,
 "nbformat_minor": 5
}
