{
 "cells": [
  {
   "cell_type": "markdown",
   "id": "717087a4-0281-4b78-989c-9976d5fda471",
   "metadata": {},
   "source": [
    "# Exercise 1 "
   ]
  },
  {
   "cell_type": "raw",
   "id": "da822df4-3d5a-413c-869a-e88cc3134dc8",
   "metadata": {},
   "source": [
    "(20 points) True or False.\n",
    "(a) In class imbalanced classification tasks, the goal is to find the model that has the highest\n",
    "accuracy. (True False)\n",
    "(b) Over-fitting is the biggest issue with over-sampling. (True False)\n",
    "(c) Under-fitting is the biggest issue with over-sampling. (True False)\n",
    "(d) A model with a large number of input variables always have a good performance. (True\n",
    "False)\n",
    "(e) If we run the SMOTE sampling technique multiple times on an imbalanced dataset, we\n",
    "will always obtain the same synthetic dataset. (True False)\n",
    "(f) Replacing missing values with mean values will always boost model performance. (True\n",
    "False)\n",
    "(g) RFE works with any support vector machine model. (True False)\n",
    "(h) RFE doesn’t work with any support vector machine model. (True False)\n",
    "(i) A typical approach to engineer features is to consider interactions because most interactions help models to generate good predictions. (True False)\n",
    "(j) The support vectors in support vector machine models can be used to identify important\n",
    "variables/features. (True False)"
   ]
  },
  {
   "cell_type": "markdown",
   "id": "270f846a-7fcd-438b-857c-2a602a111b97",
   "metadata": {},
   "source": [
    "# Exercise 2"
   ]
  },
  {
   "cell_type": "markdown",
   "id": "f383e087-cae3-4eeb-bad3-47bae1690384",
   "metadata": {},
   "source": [
    "# Exercise 3"
   ]
  },
  {
   "cell_type": "markdown",
   "id": "b8f61345-4435-46da-92f2-453a72ddcf7e",
   "metadata": {},
   "source": [
    "# Exercise 4"
   ]
  },
  {
   "cell_type": "markdown",
   "id": "14b3000f-bb4c-4de1-b294-76ff2a5d0ab6",
   "metadata": {},
   "source": [
    "# Exercise 5"
   ]
  },
  {
   "cell_type": "markdown",
   "id": "2bb8f114-4394-4be5-80c8-d071a54a3508",
   "metadata": {},
   "source": [
    "# Exercise 6"
   ]
  },
  {
   "cell_type": "markdown",
   "id": "1e45ca65-4f8d-4d80-aefa-7ca1c10e48a3",
   "metadata": {},
   "source": [
    "# Exercise 7"
   ]
  },
  {
   "cell_type": "markdown",
   "id": "da1377f6-f252-47c0-af45-b3be836933bd",
   "metadata": {},
   "source": [
    "# Exercise 8"
   ]
  },
  {
   "cell_type": "markdown",
   "id": "db3e6caa-d28a-4ff7-8ec2-7a6b9e3156eb",
   "metadata": {
    "tags": []
   },
   "source": [
    "# Exercise 9"
   ]
  },
  {
   "cell_type": "markdown",
   "id": "e8959f93-d52c-4c5b-8ddd-5695a37c4537",
   "metadata": {},
   "source": [
    "# Exercise 10"
   ]
  },
  {
   "cell_type": "markdown",
   "id": "18caf31c-bb54-45a3-81ea-d18b64b06bef",
   "metadata": {},
   "source": [
    "# Exercise 11"
   ]
  },
  {
   "cell_type": "markdown",
   "id": "5d05ca72-5e9d-4350-9634-bd719fe7c108",
   "metadata": {},
   "source": [
    "# Exercise 12"
   ]
  },
  {
   "cell_type": "markdown",
   "id": "574c3d7c-ecc1-4186-aebd-48217415cadf",
   "metadata": {},
   "source": [
    "# Exercise 13"
   ]
  },
  {
   "cell_type": "markdown",
   "id": "66745ffe-c91d-4a3c-8303-e2cd8cdaca58",
   "metadata": {},
   "source": [
    "# Exercise 14"
   ]
  },
  {
   "cell_type": "markdown",
   "id": "3fab6f4a-2d47-4c5b-91ba-adc09ed679ee",
   "metadata": {},
   "source": [
    "# Exercise 15"
   ]
  },
  {
   "cell_type": "markdown",
   "id": "547c7f85-5f91-4832-b71e-fd6001ec7db3",
   "metadata": {},
   "source": [
    "# Exercise 16"
   ]
  },
  {
   "cell_type": "markdown",
   "id": "848d2219-4fdb-495b-86f1-15789ba43a8c",
   "metadata": {},
   "source": [
    "(a) (4 points) Using the pandas library, read the Customers.csv data file and create two\n",
    "data-frames, called it customers."
   ]
  },
  {
   "cell_type": "code",
   "execution_count": null,
   "id": "ba60c3bc-db67-4196-80ec-440529eb4ad5",
   "metadata": {
    "tags": []
   },
   "outputs": [
    {
     "data": {
      "text/html": [
       "<div>\n",
       "<style scoped>\n",
       "    .dataframe tbody tr th:only-of-type {\n",
       "        vertical-align: middle;\n",
       "    }\n",
       "\n",
       "    .dataframe tbody tr th {\n",
       "        vertical-align: top;\n",
       "    }\n",
       "\n",
       "    .dataframe thead th {\n",
       "        text-align: right;\n",
       "    }\n",
       "</style>\n",
       "<table border=\"1\" class=\"dataframe\">\n",
       "  <thead>\n",
       "    <tr style=\"text-align: right;\">\n",
       "      <th></th>\n",
       "      <th>CustomerID</th>\n",
       "      <th>Gender</th>\n",
       "      <th>Age</th>\n",
       "      <th>Annual Income ($)</th>\n",
       "      <th>Spending Score (1-100)</th>\n",
       "      <th>Profession</th>\n",
       "      <th>Work Experience</th>\n",
       "      <th>Family Size</th>\n",
       "    </tr>\n",
       "  </thead>\n",
       "  <tbody>\n",
       "    <tr>\n",
       "      <th>0</th>\n",
       "      <td>1</td>\n",
       "      <td>Male</td>\n",
       "      <td>19</td>\n",
       "      <td>15000</td>\n",
       "      <td>39</td>\n",
       "      <td>Healthcare</td>\n",
       "      <td>1</td>\n",
       "      <td>4</td>\n",
       "    </tr>\n",
       "    <tr>\n",
       "      <th>1</th>\n",
       "      <td>2</td>\n",
       "      <td>Male</td>\n",
       "      <td>21</td>\n",
       "      <td>35000</td>\n",
       "      <td>81</td>\n",
       "      <td>Engineer</td>\n",
       "      <td>3</td>\n",
       "      <td>3</td>\n",
       "    </tr>\n",
       "    <tr>\n",
       "      <th>2</th>\n",
       "      <td>3</td>\n",
       "      <td>Female</td>\n",
       "      <td>20</td>\n",
       "      <td>86000</td>\n",
       "      <td>6</td>\n",
       "      <td>Engineer</td>\n",
       "      <td>1</td>\n",
       "      <td>1</td>\n",
       "    </tr>\n",
       "    <tr>\n",
       "      <th>3</th>\n",
       "      <td>4</td>\n",
       "      <td>Female</td>\n",
       "      <td>23</td>\n",
       "      <td>59000</td>\n",
       "      <td>77</td>\n",
       "      <td>Lawyer</td>\n",
       "      <td>0</td>\n",
       "      <td>2</td>\n",
       "    </tr>\n",
       "    <tr>\n",
       "      <th>4</th>\n",
       "      <td>5</td>\n",
       "      <td>Female</td>\n",
       "      <td>31</td>\n",
       "      <td>38000</td>\n",
       "      <td>40</td>\n",
       "      <td>Entertainment</td>\n",
       "      <td>2</td>\n",
       "      <td>6</td>\n",
       "    </tr>\n",
       "  </tbody>\n",
       "</table>\n",
       "</div>"
      ],
      "text/plain": [
       "   CustomerID  Gender  Age  Annual Income ($)  Spending Score (1-100)  \\\n",
       "0           1    Male   19              15000                      39   \n",
       "1           2    Male   21              35000                      81   \n",
       "2           3  Female   20              86000                       6   \n",
       "3           4  Female   23              59000                      77   \n",
       "4           5  Female   31              38000                      40   \n",
       "\n",
       "      Profession  Work Experience  Family Size  \n",
       "0     Healthcare                1            4  \n",
       "1       Engineer                3            3  \n",
       "2       Engineer                1            1  \n",
       "3         Lawyer                0            2  \n",
       "4  Entertainment                2            6  "
      ]
     },
     "execution_count": 3,
     "metadata": {},
     "output_type": "execute_result"
    }
   ],
   "source": [
    "import boto3\n",
    "import pandas as pd\n",
    "import numpy as np\n",
    "import matplotlib.pyplot as plt\n",
    "\n",
    "from sklearn.model_selection import train_test_split, GridSearchCV\n",
    "from sklearn.preprocessing import MinMaxScaler\n",
    "from sklearn.linear_model import LogisticRegression\n",
    "from scipy.stats import boxcox\n",
    "from sklearn.tree import DecisionTreeClassifier, plot_tree\n",
    "from sklearn.ensemble import RandomForestClassifier, AdaBoostClassifier\n",
    "from sklearn.metrics import classification_report\n",
    "from sklearn.feature_selection import RFE, RFECV \n",
    "from sklearn.svm import SVR, SVC\n",
    "\n",
    "#defining the bucket\n",
    "s3 = boto3.resource('s3')\n",
    "bucket_name = 'rachaeld-data445'\n",
    "bucket = s3.Bucket(bucket_name)\n",
    "\n",
    "#defining the csv file\n",
    "file_key = 'Customers.csv'\n",
    "\n",
    "bucket_object = bucket.Object(file_key)\n",
    "file_object = bucket_object.get()\n",
    "file_content_stream = file_object.get('Body')\n",
    "\n",
    "customers = pd.read_csv(file_content_stream)\n",
    "customers.head()"
   ]
  },
  {
   "cell_type": "markdown",
   "id": "4b8af74f-4606-49de-b24c-9abaf38a0f69",
   "metadata": {},
   "source": [
    "(b) (3 points) Drop the Customer ID variable.\n"
   ]
  }
 ],
 "metadata": {
  "kernelspec": {
   "display_name": "conda_python3",
   "language": "python",
   "name": "conda_python3"
  },
  "language_info": {
   "codemirror_mode": {
    "name": "ipython",
    "version": 3
   },
   "file_extension": ".py",
   "mimetype": "text/x-python",
   "name": "python",
   "nbconvert_exporter": "python",
   "pygments_lexer": "ipython3",
   "version": "3.10.8"
  }
 },
 "nbformat": 4,
 "nbformat_minor": 5
}
